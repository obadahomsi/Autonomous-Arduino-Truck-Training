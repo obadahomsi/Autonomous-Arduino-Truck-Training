{
 "cells": [
  {
   "cell_type": "code",
   "execution_count": 1,
   "metadata": {},
   "outputs": [],
   "source": [
    "import numpy as np\n",
    "from serial import Serial\n",
    "import serial\n",
    "import re\n",
    "from numpy import array"
   ]
  },
  {
   "cell_type": "code",
   "execution_count": 2,
   "metadata": {
    "collapsed": true
   },
   "outputs": [
    {
     "ename": "SerialException",
     "evalue": "could not open port 'COM6': FileNotFoundError(2, 'The system cannot find the file specified.', None, 2)",
     "output_type": "error",
     "traceback": [
      "\u001b[0;31m---------------------------------------------------------------------------\u001b[0m",
      "\u001b[0;31mSerialException\u001b[0m                           Traceback (most recent call last)",
      "\u001b[0;32m<ipython-input-2-26065d16551a>\u001b[0m in \u001b[0;36m<module>\u001b[0;34m()\u001b[0m\n\u001b[1;32m      1\u001b[0m \u001b[0mport\u001b[0m\u001b[0;34m=\u001b[0m\u001b[0;34m\"COM6\"\u001b[0m\u001b[0;34m\u001b[0m\u001b[0m\n\u001b[0;32m----> 2\u001b[0;31m \u001b[0mboard\u001b[0m \u001b[0;34m=\u001b[0m \u001b[0mserial\u001b[0m\u001b[0;34m.\u001b[0m\u001b[0mSerial\u001b[0m\u001b[0;34m(\u001b[0m\u001b[0mport\u001b[0m\u001b[0;34m,\u001b[0m\u001b[0;36m19200\u001b[0m\u001b[0;34m,\u001b[0m\u001b[0mtimeout\u001b[0m\u001b[0;34m=\u001b[0m\u001b[0;36m5\u001b[0m\u001b[0;34m)\u001b[0m\u001b[0;34m\u001b[0m\u001b[0m\n\u001b[0m\u001b[1;32m      3\u001b[0m \u001b[0mtime\u001b[0m\u001b[0;34m.\u001b[0m\u001b[0msleep\u001b[0m\u001b[0;34m(\u001b[0m\u001b[0;36m3.0\u001b[0m\u001b[0;34m)\u001b[0m\u001b[0;34m\u001b[0m\u001b[0m\n",
      "\u001b[0;32mC:\\Users\\obada\\PycharmProjects\\MINE432\\venv\\lib\\site-packages\\serial\\serialwin32.py\u001b[0m in \u001b[0;36m__init__\u001b[0;34m(self, *args, **kwargs)\u001b[0m\n\u001b[1;32m     29\u001b[0m         \u001b[0mself\u001b[0m\u001b[0;34m.\u001b[0m\u001b[0m_overlapped_read\u001b[0m \u001b[0;34m=\u001b[0m \u001b[0;32mNone\u001b[0m\u001b[0;34m\u001b[0m\u001b[0m\n\u001b[1;32m     30\u001b[0m         \u001b[0mself\u001b[0m\u001b[0;34m.\u001b[0m\u001b[0m_overlapped_write\u001b[0m \u001b[0;34m=\u001b[0m \u001b[0;32mNone\u001b[0m\u001b[0;34m\u001b[0m\u001b[0m\n\u001b[0;32m---> 31\u001b[0;31m         \u001b[0msuper\u001b[0m\u001b[0;34m(\u001b[0m\u001b[0mSerial\u001b[0m\u001b[0;34m,\u001b[0m \u001b[0mself\u001b[0m\u001b[0;34m)\u001b[0m\u001b[0;34m.\u001b[0m\u001b[0m__init__\u001b[0m\u001b[0;34m(\u001b[0m\u001b[0;34m*\u001b[0m\u001b[0margs\u001b[0m\u001b[0;34m,\u001b[0m \u001b[0;34m**\u001b[0m\u001b[0mkwargs\u001b[0m\u001b[0;34m)\u001b[0m\u001b[0;34m\u001b[0m\u001b[0m\n\u001b[0m\u001b[1;32m     32\u001b[0m \u001b[0;34m\u001b[0m\u001b[0m\n\u001b[1;32m     33\u001b[0m     \u001b[0;32mdef\u001b[0m \u001b[0mopen\u001b[0m\u001b[0;34m(\u001b[0m\u001b[0mself\u001b[0m\u001b[0;34m)\u001b[0m\u001b[0;34m:\u001b[0m\u001b[0;34m\u001b[0m\u001b[0m\n",
      "\u001b[0;32mC:\\Users\\obada\\PycharmProjects\\MINE432\\venv\\lib\\site-packages\\serial\\serialutil.py\u001b[0m in \u001b[0;36m__init__\u001b[0;34m(self, port, baudrate, bytesize, parity, stopbits, timeout, xonxoff, rtscts, write_timeout, dsrdtr, inter_byte_timeout, exclusive, **kwargs)\u001b[0m\n\u001b[1;32m    238\u001b[0m \u001b[0;34m\u001b[0m\u001b[0m\n\u001b[1;32m    239\u001b[0m         \u001b[0;32mif\u001b[0m \u001b[0mport\u001b[0m \u001b[0;32mis\u001b[0m \u001b[0;32mnot\u001b[0m \u001b[0;32mNone\u001b[0m\u001b[0;34m:\u001b[0m\u001b[0;34m\u001b[0m\u001b[0m\n\u001b[0;32m--> 240\u001b[0;31m             \u001b[0mself\u001b[0m\u001b[0;34m.\u001b[0m\u001b[0mopen\u001b[0m\u001b[0;34m(\u001b[0m\u001b[0;34m)\u001b[0m\u001b[0;34m\u001b[0m\u001b[0m\n\u001b[0m\u001b[1;32m    241\u001b[0m \u001b[0;34m\u001b[0m\u001b[0m\n\u001b[1;32m    242\u001b[0m     \u001b[0;31m#  -  -  -  -  -  -  -  -  -  -  -  -  -  -  -  -  -  -  -  -  -  -  -  -\u001b[0m\u001b[0;34m\u001b[0m\u001b[0;34m\u001b[0m\u001b[0m\n",
      "\u001b[0;32mC:\\Users\\obada\\PycharmProjects\\MINE432\\venv\\lib\\site-packages\\serial\\serialwin32.py\u001b[0m in \u001b[0;36mopen\u001b[0;34m(self)\u001b[0m\n\u001b[1;32m     60\u001b[0m         \u001b[0;32mif\u001b[0m \u001b[0mself\u001b[0m\u001b[0;34m.\u001b[0m\u001b[0m_port_handle\u001b[0m \u001b[0;34m==\u001b[0m \u001b[0mwin32\u001b[0m\u001b[0;34m.\u001b[0m\u001b[0mINVALID_HANDLE_VALUE\u001b[0m\u001b[0;34m:\u001b[0m\u001b[0;34m\u001b[0m\u001b[0m\n\u001b[1;32m     61\u001b[0m             \u001b[0mself\u001b[0m\u001b[0;34m.\u001b[0m\u001b[0m_port_handle\u001b[0m \u001b[0;34m=\u001b[0m \u001b[0;32mNone\u001b[0m    \u001b[0;31m# 'cause __del__ is called anyway\u001b[0m\u001b[0;34m\u001b[0m\u001b[0m\n\u001b[0;32m---> 62\u001b[0;31m             \u001b[0;32mraise\u001b[0m \u001b[0mSerialException\u001b[0m\u001b[0;34m(\u001b[0m\u001b[0;34m\"could not open port {!r}: {!r}\"\u001b[0m\u001b[0;34m.\u001b[0m\u001b[0mformat\u001b[0m\u001b[0;34m(\u001b[0m\u001b[0mself\u001b[0m\u001b[0;34m.\u001b[0m\u001b[0mportstr\u001b[0m\u001b[0;34m,\u001b[0m \u001b[0mctypes\u001b[0m\u001b[0;34m.\u001b[0m\u001b[0mWinError\u001b[0m\u001b[0;34m(\u001b[0m\u001b[0;34m)\u001b[0m\u001b[0;34m)\u001b[0m\u001b[0;34m)\u001b[0m\u001b[0;34m\u001b[0m\u001b[0m\n\u001b[0m\u001b[1;32m     63\u001b[0m \u001b[0;34m\u001b[0m\u001b[0m\n\u001b[1;32m     64\u001b[0m         \u001b[0;32mtry\u001b[0m\u001b[0;34m:\u001b[0m\u001b[0;34m\u001b[0m\u001b[0m\n",
      "\u001b[0;31mSerialException\u001b[0m: could not open port 'COM6': FileNotFoundError(2, 'The system cannot find the file specified.', None, 2)"
     ]
    }
   ],
   "source": [
    "port=\"COM6\"\n",
    "board = serial.Serial(port,19200,timeout=5)\n",
    "time.sleep(3.0)"
   ]
  },
  {
   "cell_type": "code",
   "execution_count": 3,
   "metadata": {},
   "outputs": [],
   "source": [
    "def neural_network_results(syn0_arry, syn1_arry, syn2_arry, syn3_arry):\n",
    "    l0 = encoded_input()\n",
    "    l1 = nonlin(np.dot(l0,syn0_arry))\n",
    "    l2 = nonlin(np.dot(l1,syn1_arry))\n",
    "    l3 = nonlin(np.dot(l2,syn2_arry))\n",
    "    l4 = nonlin(np.dot(syn3_arry,l3))\n",
    "    results=zero_or_one(l4)\n",
    "    return results\n",
    "\n",
    "def very_forward():\n",
    "    board.write(b\"a\")\n",
    "def forward():\n",
    "    board.write(b\"b\")\n",
    "def very_left():\n",
    "    board.write(b\"c\")\n",
    "def left():\n",
    "    board.write(b\"d\")\n",
    "def very_right():\n",
    "    board.write(b\"e\")\n",
    "def right():\n",
    "    board.write(b\"f\")\n",
    "    \n",
    "def load_synapses(i):\n",
    "    syn0_arry = np.load('syn0_arry'+str(i)+'.npy')\n",
    "    syn1_arry = np.load('syn1_arry'+str(i)+'.npy')\n",
    "    syn2_arry = np.load('syn2_arry'+str(i)+'.npy')\n",
    "    syn3_arry = np.load('syn3_arry'+str(i)+'.npy')\n",
    "    return syn0_arry, syn1_arry, syn2_arry, syn3_arry\n",
    "def get_data_input():\n",
    "    board.write(b\"g\")\n",
    "    time.sleep(4.1)\n",
    "    data_input = []\n",
    "    while board.in_waiting:\n",
    "        input_data = board.readline()\n",
    "        x= str(input_data.decode())\n",
    "        x = re.sub(\"[^\\d\\.]\", \"\", x)\n",
    "        print(x)\n",
    "        if '.' in x:\n",
    "            data_input.append(float(x))\n",
    "        elif '677' in x:\n",
    "           \n",
    "            hitwall_true()\n",
    "            print('HIT THE WALL!!!')\n",
    "            break\n",
    "        elif '788' in x:\n",
    "           \n",
    "            paused_true()\n",
    "            print('TRAINING PAUSED')\n",
    "            break\n",
    "        else:\n",
    "            data_input.append(int(x))\n",
    "    return data_input\n",
    "\n",
    "def encoded_input():\n",
    "    data_input = get_data_input()\n",
    "    input_layer = np.zeros((17,250))\n",
    "    for i in range(len(data_input)):\n",
    "        if data_input[i]>250:\n",
    "            data_input[i] = 250\n",
    "        input_layer[i,int(data_input[i]-1)]= 1\n",
    "    return input_layer\n",
    "\n",
    "def zero_or_one(arry):\n",
    "    results = []\n",
    "    max_num = 0\n",
    "    max_index = 0\n",
    "    z = arry[0]\n",
    "    for i in range(len(z)):\n",
    "        if z[i]>max_num:\n",
    "            max_num = z[i]\n",
    "            max_index = i\n",
    "    for l in range(len(z)):\n",
    "        z[l] = 0\n",
    "    z[max_index] = 1\n",
    "    for i in z:\n",
    "        results.append(i)\n",
    "        \n",
    "    print(results)\n",
    "    return results\n",
    "def react_to_results(results):\n",
    "    for i in range(len(results)):\n",
    "                    if i == 0:\n",
    "                        if results[i]==1:\n",
    "                            very_forward()\n",
    "                    elif i ==1:\n",
    "                        if results[i]==1:\n",
    "                            forward()\n",
    "                            \n",
    "                    elif i ==2:\n",
    "                        if results[i]==1:\n",
    "                            very_left()\n",
    "                    elif i ==3:\n",
    "                        if results[i]==1:\n",
    "                            left()\n",
    "                    elif i ==4:\n",
    "                        if results[i]==1:\n",
    "                            very_right()\n",
    "                    elif i ==5:\n",
    "                        if results[i]==1:\n",
    "                            right()"
   ]
  },
  {
   "cell_type": "code",
   "execution_count": null,
   "metadata": {},
   "outputs": [],
   "source": [
    "while 1==1:\n",
    "    results =neural_network_results(load_synapses(i))\n",
    "    react_to_results(results)"
   ]
  }
 ],
 "metadata": {
  "kernelspec": {
   "display_name": "Python 3",
   "language": "python",
   "name": "python3"
  },
  "language_info": {
   "codemirror_mode": {
    "name": "ipython",
    "version": 3
   },
   "file_extension": ".py",
   "mimetype": "text/x-python",
   "name": "python",
   "nbconvert_exporter": "python",
   "pygments_lexer": "ipython3",
   "version": "3.6.5rc1"
  }
 },
 "nbformat": 4,
 "nbformat_minor": 2
}
